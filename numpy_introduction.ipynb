{
 "cells": [
  {
   "cell_type": "code",
   "execution_count": 1,
   "metadata": {},
   "outputs": [
    {
     "name": "stdout",
     "output_type": "stream",
     "text": [
      "7.38905609893065\n",
      "1.0\n",
      "1.2246467991473532e-16\n",
      "1.7320508075688772\n"
     ]
    }
   ],
   "source": [
    "import numpy as np\n",
    "\n",
    "print(np.exp(2))\n",
    "print(np.log(np.e))\n",
    "print(np.sin(np.pi))\n",
    "print(np.sqrt(3))"
   ]
  },
  {
   "cell_type": "code",
   "execution_count": 12,
   "metadata": {},
   "outputs": [
    {
     "name": "stdout",
     "output_type": "stream",
     "text": [
      "5\n",
      "[3 5]\n",
      "[5 7]\n",
      "[0 1 2 3 4]\n",
      "[1.  1.2 1.4 1.6 1.8 2.  2.2 2.4 2.6 2.8]\n",
      "int64\n",
      "float64\n",
      "[1. 2. 3.]\n",
      "float64\n",
      "[0. 1. 2. 3. 4.]\n",
      "float64\n"
     ]
    }
   ],
   "source": [
    "a = np.array([2,3,5,7,8])\n",
    "print(a[2])\n",
    "print(a[1:3]) # インデックス1から3の手前まで\n",
    "print(a[2:-1])# インデックス2から末尾1まで\n",
    "\n",
    "b = np.arange(5)\n",
    "print(b)\n",
    "\n",
    "c = np.arange(1, 3, 0.2)\n",
    "print(c)\n",
    "\n",
    "print(a.dtype)\n",
    "print(c.dtype)\n",
    "\n",
    "d = np.array([1,2,3], dtype=np.float64)\n",
    "print(d)\n",
    "print(d.dtype)\n",
    "\n",
    "e = np.arange(5.)\n",
    "print(e)\n",
    "print(e.dtype)"
   ]
  },
  {
   "cell_type": "code",
   "execution_count": 18,
   "metadata": {},
   "outputs": [
    {
     "name": "stdout",
     "output_type": "stream",
     "text": [
      "[[2. 3. 4.]\n",
      " [5. 6. 7.]]\n",
      "3.0\n",
      "[3. 6.]\n",
      "[5. 6. 7.]\n",
      "[4.]\n",
      "[2. 3.]\n"
     ]
    }
   ],
   "source": [
    "a = np.array([[2,3,4],[5,6,7]], dtype=np.float64)\n",
    "print(a)\n",
    "print(a[0,1])\n",
    "print(a[:,1])\n",
    "print(a[1,:])\n",
    "print(a[0,2:])\n",
    "print(a[0,:2])\n",
    "\n",
    "v = np.array([2.,3.,4.])\n",
    "c = np.array([[1., 2.], [3., 4.]])"
   ]
  },
  {
   "cell_type": "code",
   "execution_count": 26,
   "metadata": {},
   "outputs": [
    {
     "name": "stdout",
     "output_type": "stream",
     "text": [
      "[[ 0.  1.  2.  3.  4.]\n",
      " [ 5.  6.  7.  8.  9.]\n",
      " [10. 11. 12. 13. 14.]]\n",
      "(3, 5)\n",
      "2\n",
      "15\n",
      "(4,)\n",
      "1\n",
      "4\n"
     ]
    }
   ],
   "source": [
    "a = np.arange(15.).reshape(3,5)\n",
    "print(a)\n",
    "print(a.shape)\n",
    "print(a.ndim) # => 2(次元配列)\n",
    "print(a.size)\n",
    "\n",
    "b = np.arange(4.)\n",
    "print(b.shape)\n",
    "print(b.ndim)\n",
    "print(b.size)"
   ]
  },
  {
   "cell_type": "code",
   "execution_count": 31,
   "metadata": {},
   "outputs": [
    {
     "name": "stdout",
     "output_type": "stream",
     "text": [
      "[[ 0.  1.  2.  3.]\n",
      " [ 4.  5.  6.  7.]\n",
      " [ 8.  9. 10. 11.]\n",
      " [12. 13. 14. 15.]]\n",
      "[ 0.  1.  2.  3.  4.  5.  6.  7.  8.  9. 10. 11. 12. 13. 14. 15.]\n",
      "[ 0.  1.  2.  3.  4.  5.  6.  7.  8.  9. 10. 11. 12. 13. 14. 15.]\n",
      "[[0.]\n",
      " [1.]\n",
      " [2.]\n",
      " [3.]]\n",
      "[[0.]\n",
      " [1.]\n",
      " [2.]\n",
      " [3.]]\n",
      "[[0.]\n",
      " [1.]\n",
      " [2.]\n",
      " [3.]]\n",
      "[[0. 1. 2. 3.]]\n",
      "[[0. 1. 2. 3.]]\n"
     ]
    }
   ],
   "source": [
    "a = np.arange(16.)\n",
    "c = a.reshape(4, -1) # 行数=4, 列数は自動(-1)\n",
    "print(c)\n",
    "print(c.ravel())\n",
    "print(c.reshape(-1))\n",
    "\n",
    "b = np.arange(4.)\n",
    "print(b.reshape(-1,1))\n",
    "print(b[:, np.newaxis])\n",
    "print(b[:, None])\n",
    "\n",
    "print(b.reshape(1,-1))\n",
    "print(b[np.newaxis, :]) # np.newaxisはNoneのエイリアス\n",
    "\n",
    "# 1次元配列と2次元配列は別物として扱われる"
   ]
  },
  {
   "cell_type": "code",
   "execution_count": 37,
   "metadata": {},
   "outputs": [
    {
     "name": "stdout",
     "output_type": "stream",
     "text": [
      "[[0. 0. 0. 0.]\n",
      " [0. 0. 0. 0.]\n",
      " [0. 0. 0. 0.]]\n",
      "[[1. 1.]\n",
      " [1. 1.]]\n",
      "[[0.         0.11111111 0.22222222 0.33333333 0.44444444]\n",
      " [0.55555556 0.66666667 0.77777778 0.88888889 1.        ]]\n",
      "[0.         0.11111111 0.22222222 0.33333333 0.44444444 0.55555556\n",
      " 0.66666667 0.77777778 0.88888889 1.        ]\n",
      "10\n"
     ]
    }
   ],
   "source": [
    "a = np.zeros((3,4))\n",
    "print(a)\n",
    "\n",
    "b = np.ones((2,2))\n",
    "print(b)\n",
    "\n",
    "c = np.empty((2,5))\n",
    "print(c)\n",
    "\n",
    "d = np.linspace(0, 1, 10) # 返ってくるサイズは第3引数の個数分\n",
    "print(d)\n",
    "print(d.size)"
   ]
  },
  {
   "cell_type": "code",
   "execution_count": 45,
   "metadata": {},
   "outputs": [
    {
     "name": "stdout",
     "output_type": "stream",
     "text": [
      "[[0 1 2]\n",
      " [3 4 5]]\n",
      "[[ 6  7  8]\n",
      " [ 9 10 11]]\n",
      "[[ 0  1  2]\n",
      " [ 3  4  5]\n",
      " [ 6  7  8]\n",
      " [ 9 10 11]]\n",
      "[[ 0  1  2  6  7  8]\n",
      " [ 3  4  5  9 10 11]]\n",
      "[0 1 2]\n",
      "[3 4 5]\n",
      "[0 1 2 3 4 5]\n",
      "[[0 3]\n",
      " [1 4]\n",
      " [2 5]]\n"
     ]
    }
   ],
   "source": [
    "a = np.arange(6).reshape(2,3)\n",
    "print(a)\n",
    "b = np.arange(6,12).reshape(2,3)\n",
    "print(b)\n",
    "\n",
    "print(np.r_[a,b]) # row\n",
    "print(np.c_[a,b]) # column\n",
    "\n",
    "c = np.arange(3) # 1次元ベクトルは縦ベクトルとみなされる\n",
    "d = np.arange(3,6)\n",
    "print(c)\n",
    "print(d)\n",
    "\n",
    "print(np.r_[c,d]) # 転置したものとして考える\n",
    "print(np.c_[c,d]) # 列数2の行列"
   ]
  }
 ],
 "metadata": {
  "kernelspec": {
   "display_name": "Python 3",
   "language": "python",
   "name": "python3"
  },
  "language_info": {
   "codemirror_mode": {
    "name": "ipython",
    "version": 3
   },
   "file_extension": ".py",
   "mimetype": "text/x-python",
   "name": "python",
   "nbconvert_exporter": "python",
   "pygments_lexer": "ipython3",
   "version": "3.7.3"
  }
 },
 "nbformat": 4,
 "nbformat_minor": 2
}
