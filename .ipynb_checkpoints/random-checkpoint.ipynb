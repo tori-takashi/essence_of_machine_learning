{
 "cells": [
  {
   "cell_type": "code",
   "execution_count": 52,
   "metadata": {},
   "outputs": [
    {
     "name": "stdout",
     "output_type": "stream",
     "text": [
      "0.7761296870462024\n",
      "[[0.85977395 0.00445134]\n",
      " [0.70591462 0.68549389]\n",
      " [0.22131126 0.73842834]]\n",
      "[0.81084866 0.09965343 0.03719205 0.79025102 0.13613274]\n",
      "1\n",
      "14\n",
      "[[3 1 1]\n",
      " [4 2 1]\n",
      " [2 4 1]]\n"
     ]
    }
   ],
   "source": [
    "import numpy as np\n",
    "\n",
    "print(np.random.rand()) # 0 <= x < 1\n",
    "print(np.random.rand(3,2)) # 3*2\n",
    "print(np.random.rand(5))\n",
    "\n",
    "print(np.random.randint(4)) # 0<= x < 4\n",
    "print(np.random.randint(10,20)) # 10<= x < 20\n",
    "print(np.random.randint(5, size=(3,3))) # 3 *3"
   ]
  },
  {
   "cell_type": "code",
   "execution_count": 67,
   "metadata": {},
   "outputs": [
    {
     "name": "stdout",
     "output_type": "stream",
     "text": [
      "37\n"
     ]
    }
   ],
   "source": [
    "def throw_dice(n):\n",
    "    return np.random.randint(1,7, size=n).sum()\n",
    "\n",
    "print(throw_dice(10))"
   ]
  },
  {
   "cell_type": "code",
   "execution_count": 75,
   "metadata": {},
   "outputs": [
    {
     "name": "stdout",
     "output_type": "stream",
     "text": [
      "[0.77132064 0.02075195 0.63364823 0.74880388 0.49850701]\n",
      "[0.77132064 0.02075195 0.63364823 0.74880388 0.49850701]\n",
      "[0.54340494 0.27836939 0.42451759 0.84477613 0.00471886]\n",
      "[0.54340494 0.27836939 0.42451759 0.84477613 0.00471886]\n"
     ]
    }
   ],
   "source": [
    "np.random.seed(10)\n",
    "print(np.random.rand(5))\n",
    "\n",
    "np.random.seed(10)\n",
    "print(np.random.rand(5))\n",
    "\n",
    "np.random.seed(100)\n",
    "print(np.random.rand(5))\n",
    "\n",
    "np.random.seed(100)\n",
    "print(np.random.rand(5))"
   ]
  },
  {
   "cell_type": "code",
   "execution_count": 81,
   "metadata": {},
   "outputs": [
    {
     "name": "stdout",
     "output_type": "stream",
     "text": [
      "34\n",
      "34\n",
      "328\n",
      "328\n"
     ]
    }
   ],
   "source": [
    "def throw_dice2(n, random_seed=10):\n",
    "    np.random.seed(random_seed)\n",
    "    return np.random.randint(1,7, size=n).sum()\n",
    "\n",
    "print(throw_dice2(10))\n",
    "print(throw_dice2(10))\n",
    "print(throw_dice2(100))\n",
    "print(throw_dice2(100))"
   ]
  },
  {
   "cell_type": "code",
   "execution_count": 94,
   "metadata": {},
   "outputs": [
    {
     "name": "stdout",
     "output_type": "stream",
     "text": [
      "34\n",
      "33\n",
      "35\n",
      "28\n",
      "\n",
      "\n",
      "34\n",
      "34\n"
     ]
    }
   ],
   "source": [
    "class Dice1:\n",
    "    def __init__(self):\n",
    "        np.random.seed(0)\n",
    "        self.sum_ = 0\n",
    "        \n",
    "    def throw(self):\n",
    "        self.sum_ += np.random.randint(1,7)\n",
    "        \n",
    "    def get_sum(self):\n",
    "        return self.sum_\n",
    "    \n",
    "class Dice2: # デフォルトでは再現性にこだわらない\n",
    "    def __init__(self, random_seed=None):\n",
    "        self.random_state_ = np.random.RandomState(random_seed)\n",
    "        self.sum_ = 0\n",
    "        \n",
    "    def throw(self):\n",
    "        self.sum_ += self.random_state_.randint(1,7)\n",
    "        \n",
    "    def get_sum(self):\n",
    "        return self.sum_\n",
    "\n",
    "dice1_1 = Dice1()\n",
    "dice1_2 = Dice1()\n",
    "\n",
    "for _ in range(10):\n",
    "    dice1_1.throw()\n",
    "    dice1_2.throw()\n",
    "    \n",
    "print(dice1_1.get_sum())\n",
    "print(dice1_2.get_sum())\n",
    "\n",
    "res1 = dice1_1.get_sum()\n",
    "res2 = dice1_2.get_sum()\n",
    "\n",
    "for _ in range(10):\n",
    "    dice1_1.throw()\n",
    "    dice1_2.throw()\n",
    "    \n",
    "print(dice1_1.get_sum() - res1)\n",
    "print(dice1_2.get_sum() - res2)\n",
    "\n",
    "# グローバルな乱数生成器の状態を初期化しているため\n",
    "# インスタンスごとの乱数列の再現性が保証されない\n",
    "\n",
    "print(\"\\n\")\n",
    "\n",
    "dice2_1 = Dice2(123)\n",
    "dice2_2 = Dice2(123)\n",
    "\n",
    "for _ in range(10):\n",
    "    dice2_1.throw()\n",
    "    dice2_2.throw()\n",
    "    \n",
    "print(dice2_1.get_sum())\n",
    "print(dice2_2.get_sum()) # インスタンスごとの乱数列の再現性を保証"
   ]
  }
 ],
 "metadata": {
  "kernelspec": {
   "display_name": "Python 3",
   "language": "python",
   "name": "python3"
  },
  "language_info": {
   "codemirror_mode": {
    "name": "ipython",
    "version": 3
   },
   "file_extension": ".py",
   "mimetype": "text/x-python",
   "name": "python",
   "nbconvert_exporter": "python",
   "pygments_lexer": "ipython3",
   "version": "3.7.3"
  }
 },
 "nbformat": 4,
 "nbformat_minor": 2
}
