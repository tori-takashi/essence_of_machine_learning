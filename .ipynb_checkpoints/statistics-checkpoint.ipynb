{
 "cells": [
  {
   "cell_type": "code",
   "execution_count": 3,
   "metadata": {},
   "outputs": [
    {
     "name": "stdout",
     "output_type": "stream",
     "text": [
      "平均値:22.0567\n",
      "標準偏差:3.4908\n"
     ]
    }
   ],
   "source": [
    "import numpy as np\n",
    "\n",
    "x = np.array([21.9, 24.5, 23.4, 26.2, 15.3, 22.4, 21.8, 16.8,\n",
    "              19.9, 19.1, 21.9, 25.9, 20.9, 18.8, 22.1, 20.0,\n",
    "              15.0, 16.0, 22.2, 26.4, 26.0, 28.3, 18.7, 21.3,\n",
    "              22.5, 25.0, 22.0, 26.1, 25.6, 25.7])\n",
    "\n",
    "#m = x.sum()/ len(x)\n",
    "#s = np.sqrt(((x-m)**2).sum() / len(x))\n",
    "\n",
    "m=x.mean()\n",
    "s=x.std()\n",
    "print(\"平均値:{:.4f}\".format(m))\n",
    "print(\"標準偏差:{:.4f}\".format(s))"
   ]
  },
  {
   "cell_type": "code",
   "execution_count": 4,
   "metadata": {},
   "outputs": [
    {
     "name": "stdout",
     "output_type": "stream",
     "text": [
      "東京のsd:3.490815\n",
      "札幌のsd:5.425414\n",
      "共分散:5.487211\n",
      "相関係数:0.289729\n"
     ]
    }
   ],
   "source": [
    "y = np.array([8.3, 13.0, 8.4, 7.9, 7.0, 3.7, 6.1, 8.5, 8.6,\n",
    "              11.9, 12.1, 14.4, 7.0, 10.5, 6.6, 10.6, 16.6,\n",
    "              19.1, 20.1, 19.8, 24.5, 12.6, 16.4, 13.0, 13.3,\n",
    "              14.1, 14.4, 17.0, 21.3, 24.5])\n",
    "\n",
    "mx = x.sum()/ len(x)\n",
    "my = y.sum()/ len(y)\n",
    "sx = np.sqrt(((x-mx)**2).sum()/ len(x))\n",
    "sy = np.sqrt(((y-my)**2).sum()/ len(y))\n",
    "sxy = (((x-mx)*(y-my)).sum()/ len(x))\n",
    "\n",
    "print(\"東京のsd:{:4f}\".format(sx))\n",
    "print(\"札幌のsd:{:4f}\".format(sy))\n",
    "print(\"共分散:{:4f}\".format(sxy))\n",
    "print(\"相関係数:{:4f}\".format(sxy/ (sx * sy)))"
   ]
  },
  {
   "cell_type": "code",
   "execution_count": 6,
   "metadata": {},
   "outputs": [
    {
     "data": {
      "image/png": "[encoded data removed]",
      "text/plain": [
       "<Figure size 432x288 with 1 Axes>"
      ]
     },
     "metadata": {
      "needs_background": "light"
     },
     "output_type": "display_data"
    }
   ],
   "source": [
    "import matplotlib.pyplot as plt\n",
    "%matplotlib inline\n",
    "from scipy.stats import norm\n",
    "\n",
    "x = np.linspace(-5,5)\n",
    "y = norm.pdf(x, loc=1, scale=2)\n",
    "plt.plot(x, y, color=\"r\")\n",
    "plt.show()"
   ]
  },
  {
   "cell_type": "code",
   "execution_count": null,
   "metadata": {},
   "outputs": [],
   "source": [
    "a = norm.cdf(1) - norm.cdf(-1)\n",
    "print(a)"
   ]
  },
  {
   "cell_type": "code",
   "execution_count": null,
   "metadata": {},
   "outputs": [],
   "source": [
    "def cointoss(n, m):\n",
    "    l = []\n",
    "    for _ in range(m):\n",
    "        r = np.random.randint(2, size=n)\n",
    "        l.append(r.sum())\n",
    "    return 1\n",
    "\n",
    "np.random.seed(0)\n",
    "fig, axes = plt.subplots(1,2)\n",
    "\n",
    "l = cointoss(100, 10000000)\n",
    "axes[0].hist(l, range(30, 70), bins=50, color=\"k\")\n",
    "\n",
    "l = cointoss(100000, 1000000)\n",
    "axes[1].hist(l, range(4800, 5200), bins=50, color=\"k\")\n",
    "plt.show()"
   ]
  }
 ],
 "metadata": {
  "kernelspec": {
   "display_name": "Python 3",
   "language": "python",
   "name": "python3"
  },
  "language_info": {
   "codemirror_mode": {
    "name": "ipython",
    "version": 3
   },
   "file_extension": ".py",
   "mimetype": "text/x-python",
   "name": "python",
   "nbconvert_exporter": "python",
   "pygments_lexer": "ipython3",
   "version": "3.7.3"
  }
 },
 "nbformat": 4,
 "nbformat_minor": 2
}
