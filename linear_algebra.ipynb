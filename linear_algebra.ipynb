{
 "cells": [
  {
   "cell_type": "code",
   "execution_count": 6,
   "metadata": {},
   "outputs": [
    {
     "name": "stdout",
     "output_type": "stream",
     "text": [
      "[[ 0.42857143 -0.28571429 -0.14285714]\n",
      " [-0.14285714  0.42857143 -0.28571429]\n",
      " [-0.14285714  0.42857143  0.71428571]]\n",
      "[-0.57142857 -0.14285714  2.85714286]\n"
     ]
    }
   ],
   "source": [
    "import numpy as np\n",
    "from scipy import linalg\n",
    "\n",
    "a = np.array([\n",
    "    [3,1,1],\n",
    "    [1,2,1],\n",
    "    [0,-1,1]\n",
    "])\n",
    "\n",
    "print(np.linalg.inv(a))\n",
    "\n",
    "b = np.array([1,2,3]) # 解\n",
    "c =np.linalg.solve(a,b) # np.linalg.solve (Ax=bのa, b)\n",
    "print(c)"
   ]
  },
  {
   "cell_type": "code",
   "execution_count": 7,
   "metadata": {},
   "outputs": [
    {
     "data": {
      "text/plain": [
       "array([-0.57142857, -0.14285714,  2.85714286])"
      ]
     },
     "execution_count": 7,
     "metadata": {},
     "output_type": "execute_result"
    }
   ],
   "source": [
    "lu, p = scipy.linalg.lu_factor(a)\n",
    "scipy.linalg.lu_solve((lu, p), b) # 引数の1つ目にLU分解の結果を渡す"
   ]
  }
 ],
 "metadata": {
  "kernelspec": {
   "display_name": "Python 3",
   "language": "python",
   "name": "python3"
  },
  "language_info": {
   "codemirror_mode": {
    "name": "ipython",
    "version": 3
   },
   "file_extension": ".py",
   "mimetype": "text/x-python",
   "name": "python",
   "nbconvert_exporter": "python",
   "pygments_lexer": "ipython3",
   "version": "3.7.3"
  }
 },
 "nbformat": 4,
 "nbformat_minor": 2
}
