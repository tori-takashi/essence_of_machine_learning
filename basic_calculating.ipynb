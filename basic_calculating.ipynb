{
 "cells": [
  {
   "cell_type": "code",
   "execution_count": 14,
   "metadata": {},
   "outputs": [
    {
     "name": "stdout",
     "output_type": "stream",
     "text": [
      "qeq and qeq2\n",
      "d:1.0\n",
      "d:0.9999999981\n",
      "res1\n",
      "(-2.0, -3.0)\n",
      "(-3.0, -2.0)\n",
      "res2\n",
      "(-1.0000000272292198e-09, -0.9999999990999999)\n",
      "(-0.9999999990999999, -1.0000000009e-09)\n",
      "softplus\n",
      "0.31326168751822286\n",
      "0.6931471805599453\n",
      "inf\n",
      "inf\n",
      "softplus2\n",
      "0.31326168751822286\n",
      "0.6931471805599453\n",
      "1000.0\n",
      "0.0\n"
     ]
    }
   ],
   "source": [
    "# 数値演算の基本\n",
    "\n",
    "import numpy as np\n",
    "\n",
    "## qeq1よりqeq2の方が「数値的に安定な解法」である\n",
    "\n",
    "print(\"qeq and qeq2\")\n",
    "\n",
    "def qeq(a, b, c):\n",
    "    d = np.sqrt(b**2 - 4*a*c)\n",
    "    print(\"d:\" + str(d))\n",
    "    return ((-b+d)/(2*a), (-b-d)/(2*a))\n",
    "\n",
    "def qeq2(a, b, c):\n",
    "    alpha = (-b-np.sign(b)*np.sqrt((b**2 - 4*a*c)))/(2*a)\n",
    "    beta = (c)/(a*alpha)\n",
    "    return (alpha, beta)\n",
    "\n",
    "res1 = qeq(1,5,6)\n",
    "res1_fixed = qeq2(1,5,6)\n",
    "res2 = qeq(1,1.0000000001, 0.000000001)\n",
    "res2_fixed = qeq2(1,1.0000000001, 0.000000001)\n",
    "\n",
    "print(\"res1\")\n",
    "print(res1)\n",
    "print(res1_fixed)\n",
    "print(\"res2\")\n",
    "print(res2)\n",
    "print(res2_fixed)\n",
    "\n",
    "def softplus(x):\n",
    "    return np.log(1 + np.exp(x))\n",
    "\n",
    "def softplus2(x):\n",
    "    return max(0,x) + np.log(1 + np.exp(-abs(x)))\n",
    "\n",
    "print(\"\\nsoftplus\")\n",
    "print(softplus(-1))\n",
    "print(softplus(0))\n",
    "print(softplus(1000))\n",
    "\n",
    "print(np.exp(1000))\n",
    "\n",
    "print(\"softplus2\")\n",
    "print(softplus2(-1))\n",
    "print(softplus2(0))\n",
    "print(softplus2(1000))\n",
    "print(softplus2(-1000))"
   ]
  }
 ],
 "metadata": {
  "kernelspec": {
   "display_name": "Python 3",
   "language": "python",
   "name": "python3"
  },
  "language_info": {
   "codemirror_mode": {
    "name": "ipython",
    "version": 3
   },
   "file_extension": ".py",
   "mimetype": "text/x-python",
   "name": "python",
   "nbconvert_exporter": "python",
   "pygments_lexer": "ipython3",
   "version": "3.7.3"
  }
 },
 "nbformat": 4,
 "nbformat_minor": 2
}
