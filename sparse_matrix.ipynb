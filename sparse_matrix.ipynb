{
 "cells": [
  {
   "cell_type": "code",
   "execution_count": 4,
   "metadata": {},
   "outputs": [
    {
     "name": "stdout",
     "output_type": "stream",
     "text": [
      "[[0. 1. 0. 2. 0.]\n",
      " [0. 0. 0. 0. 0.]\n",
      " [0. 0. 3. 0. 0.]\n",
      " [0. 0. 0. 0. 4.]]\n",
      "[[0. 0. 1. 0.]\n",
      " [0. 0. 2. 0.]\n",
      " [0. 0. 0. 3.]\n",
      " [0. 0. 0. 4.]\n",
      " [0. 0. 0. 0.]]\n",
      "[[0. 0. 2. 8.]\n",
      " [0. 0. 0. 0.]\n",
      " [0. 0. 0. 9.]\n",
      " [0. 0. 0. 0.]]\n",
      "[[0. 0. 2. 8.]\n",
      " [0. 0. 0. 0.]\n",
      " [0. 0. 0. 9.]\n",
      " [0. 0. 0. 0.]]\n",
      "[[0. 0. 2. 8.]\n",
      " [0. 0. 0. 0.]\n",
      " [0. 0. 0. 9.]\n",
      " [0. 0. 0. 0.]]\n"
     ]
    }
   ],
   "source": [
    "from scipy import sparse\n",
    "a = sparse.lil_matrix((4,5))\n",
    "a[0,1] = 1\n",
    "a[0,3] = 2\n",
    "a[2,2] = 3\n",
    "a[3,4] = 4\n",
    "print(a.toarray())\n",
    "\n",
    "b = sparse.lil_matrix((5,4))\n",
    "b[0,2] = 1\n",
    "b[1,2] = 2\n",
    "b[2,3] = 3\n",
    "b[3,3] = 4\n",
    "print(b.toarray())\n",
    "\n",
    "c = a.dot(b)\n",
    "print(c.toarray())\n",
    "\n",
    "a1 = a.tocsr() # csr_matrix => cs(r)より行を取り出す操作が高速\n",
    "b1 = b.tocsr()\n",
    "c1 = a1.dot(b1)\n",
    "print(c1.toarray())\n",
    "\n",
    "a2 = a.tocsc() # csc_matrix => cs(c)より列を取り出す操作が高速\n",
    "b2 = b.tocsc()\n",
    "c2 = a2.dot(b2)\n",
    "print(c2.toarray())\n",
    "\n",
    "#疎行列を扱う時\n",
    "# 1. lil_matrixの各要素に値を設定\n",
    "# 2. csc_matrix か　csr_matrixに変換"
   ]
  },
  {
   "cell_type": "code",
   "execution_count": 10,
   "metadata": {},
   "outputs": [
    {
     "name": "stdout",
     "output_type": "stream",
     "text": [
      "  (0, 1)\t1.0\n",
      "  (1, 2)\t2.0\n",
      "  (2, 3)\t3.0\n",
      "  (3, 3)\t4.0\n",
      "[[0. 1. 0. 0.]\n",
      " [0. 0. 2. 0.]\n",
      " [0. 0. 0. 3.]\n",
      " [0. 0. 0. 4.]]\n",
      "<class 'scipy.sparse.csr.csr_matrix'>\n",
      "<class 'scipy.sparse.csc.csc_matrix'>\n",
      "<class 'scipy.sparse.csc.csc_matrix'>\n",
      "<class 'scipy.sparse.csr.csr_matrix'>\n",
      "[[0. 0. 2. 0.]]\n",
      "[[0.]\n",
      " [0.]\n",
      " [3.]\n",
      " [4.]]\n"
     ]
    }
   ],
   "source": [
    "a = sparse.lil_matrix((4,4))\n",
    "a[0,1] = 1\n",
    "a[1,2] = 2\n",
    "a[2,3] = 3\n",
    "a[3,3] = 4\n",
    "a1 = a.tocsr()\n",
    "a2 = a.tocsc()\n",
    "\n",
    "print(a1)\n",
    "print(a1.toarray())\n",
    "print(type(a1))\n",
    "print(type(a1.T))\n",
    "print(type(a2))\n",
    "print(type(a2.T))\n",
    "\n",
    "b1 = a1.getrow(1) # 高速に取得できる\n",
    "print(b1.toarray())\n",
    "b2 = a2.getcol(3)\n",
    "print(b2.toarray())"
   ]
  }
 ],
 "metadata": {
  "kernelspec": {
   "display_name": "Python 3",
   "language": "python",
   "name": "python3"
  },
  "language_info": {
   "codemirror_mode": {
    "name": "ipython",
    "version": 3
   },
   "file_extension": ".py",
   "mimetype": "text/x-python",
   "name": "python",
   "nbconvert_exporter": "python",
   "pygments_lexer": "ipython3",
   "version": "3.7.3"
  }
 },
 "nbformat": 4,
 "nbformat_minor": 2
}
